{
 "cells": [
  {
   "cell_type": "markdown",
   "id": "d86d602f",
   "metadata": {},
   "source": [
    "# Write a Python program to triple all numbers of a given list of integers. Use Python map."
   ]
  },
  {
   "cell_type": "code",
   "execution_count": 1,
   "id": "6912f7dd",
   "metadata": {},
   "outputs": [
    {
     "name": "stdout",
     "output_type": "stream",
     "text": [
      "The given list is  [1, 2, 3, 4, 5, 6, 7]\n",
      "The output for the given assignment is\n"
     ]
    },
    {
     "data": {
      "text/plain": [
       "[3, 6, 9, 12, 15, 18, 21]"
      ]
     },
     "execution_count": 1,
     "metadata": {},
     "output_type": "execute_result"
    }
   ],
   "source": [
    "sample =  [1, 2, 3, 4, 5, 6, 7]    #Declaring the list\n",
    "print(\"The given list is \",sample)\n",
    "print(\"The output for the given assignment is\")\n",
    "list(map(lambda x : x*3,sample))    #Declaring the function"
   ]
  },
  {
   "cell_type": "code",
   "execution_count": null,
   "id": "1137db71",
   "metadata": {},
   "outputs": [],
   "source": []
  }
 ],
 "metadata": {
  "kernelspec": {
   "display_name": "Python 3 (ipykernel)",
   "language": "python",
   "name": "python3"
  },
  "language_info": {
   "codemirror_mode": {
    "name": "ipython",
    "version": 3
   },
   "file_extension": ".py",
   "mimetype": "text/x-python",
   "name": "python",
   "nbconvert_exporter": "python",
   "pygments_lexer": "ipython3",
   "version": "3.9.9"
  }
 },
 "nbformat": 4,
 "nbformat_minor": 5
}
