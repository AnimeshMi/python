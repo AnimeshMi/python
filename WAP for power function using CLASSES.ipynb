{
 "cells": [
  {
   "cell_type": "markdown",
   "id": "c9f2e115",
   "metadata": {},
   "source": [
    "# Write a Python class to implement pow(x, n)"
   ]
  },
  {
   "cell_type": "code",
   "execution_count": 68,
   "id": "77b11963",
   "metadata": {},
   "outputs": [
    {
     "name": "stdout",
     "output_type": "stream",
     "text": [
      "The 2 power of 8 is 256\n",
      "None\n"
     ]
    }
   ],
   "source": [
    "\n",
    "class assignment:\n",
    "    def __init__(self,the_number_itself,p):\n",
    "        self.the_number_itself= the_number_itself\n",
    "        self.p=p\n",
    "    \n",
    "    def ques(self):\n",
    "        value=self.the_number_itself**self.p\n",
    "        print(\"The %s power of %s is %s\"%(self.the_number_itself,self.p,value))\n",
    "\n",
    "        \n",
    "l=assignment(2,8)\n",
    "print(l.ques())\n"
   ]
  },
  {
   "cell_type": "code",
   "execution_count": null,
   "id": "9a49e874",
   "metadata": {},
   "outputs": [],
   "source": []
  }
 ],
 "metadata": {
  "kernelspec": {
   "display_name": "Python 3 (ipykernel)",
   "language": "python",
   "name": "python3"
  },
  "language_info": {
   "codemirror_mode": {
    "name": "ipython",
    "version": 3
   },
   "file_extension": ".py",
   "mimetype": "text/x-python",
   "name": "python",
   "nbconvert_exporter": "python",
   "pygments_lexer": "ipython3",
   "version": "3.9.9"
  }
 },
 "nbformat": 4,
 "nbformat_minor": 5
}
