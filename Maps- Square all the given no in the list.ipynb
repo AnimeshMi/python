{
 "cells": [
  {
   "cell_type": "markdown",
   "id": "22fa8e1e",
   "metadata": {},
   "source": [
    "# Write a Python program to square the elements of a list using map() function."
   ]
  },
  {
   "cell_type": "code",
   "execution_count": 3,
   "id": "808efdb8",
   "metadata": {},
   "outputs": [
    {
     "name": "stdout",
     "output_type": "stream",
     "text": [
      "The given list is  [4, 5, 2, 9]\n",
      "The output for the given assignment is\n"
     ]
    },
    {
     "data": {
      "text/plain": [
       "[16, 25, 4, 81]"
      ]
     },
     "execution_count": 3,
     "metadata": {},
     "output_type": "execute_result"
    }
   ],
   "source": [
    "sample =  [4, 5, 2, 9]    #Declaring the list\n",
    "print(\"The given list is \",sample)\n",
    "print(\"The output for the given assignment is\")\n",
    "list(map(lambda x : x**2,sample))    #Declaring the function"
   ]
  }
 ],
 "metadata": {
  "kernelspec": {
   "display_name": "Python 3 (ipykernel)",
   "language": "python",
   "name": "python3"
  },
  "language_info": {
   "codemirror_mode": {
    "name": "ipython",
    "version": 3
   },
   "file_extension": ".py",
   "mimetype": "text/x-python",
   "name": "python",
   "nbconvert_exporter": "python",
   "pygments_lexer": "ipython3",
   "version": "3.9.9"
  }
 },
 "nbformat": 4,
 "nbformat_minor": 5
}
