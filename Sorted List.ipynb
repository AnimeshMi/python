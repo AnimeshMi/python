{
 "cells": [
  {
   "cell_type": "markdown",
   "id": "1127efe7",
   "metadata": {},
   "source": [
    "# Write a Python program to get a list, sorted in increasing order by the last element in each tuple from a given list of non-empty tuples"
   ]
  },
  {
   "cell_type": "code",
   "execution_count": 6,
   "id": "2feff36e",
   "metadata": {},
   "outputs": [
    {
     "name": "stdout",
     "output_type": "stream",
     "text": [
      "[(2, 1), (1, 2), (2, 3), (4, 4), (2, 5)]\n"
     ]
    }
   ],
   "source": [
    "\n",
    "\n",
    "list = [ (2,5) , (1,2) , (4,4) , (2,3) , (2,1) ]\n",
    "l2 = []\n",
    "l3 = []\n",
    "for i in list:\n",
    "    i = i[::-1]\n",
    "    l2.append(i)\n",
    "    \n",
    "l2.sort()\n",
    "\n",
    "for i in l2:\n",
    "    i = i[::-1]\n",
    "    l3.append(i)\n",
    "print(l3)"
   ]
  },
  {
   "cell_type": "code",
   "execution_count": null,
   "id": "90616171",
   "metadata": {},
   "outputs": [],
   "source": []
  }
 ],
 "metadata": {
  "kernelspec": {
   "display_name": "Python 3 (ipykernel)",
   "language": "python",
   "name": "python3"
  },
  "language_info": {
   "codemirror_mode": {
    "name": "ipython",
    "version": 3
   },
   "file_extension": ".py",
   "mimetype": "text/x-python",
   "name": "python",
   "nbconvert_exporter": "python",
   "pygments_lexer": "ipython3",
   "version": "3.9.9"
  }
 },
 "nbformat": 4,
 "nbformat_minor": 5
}
